{
 "cells": [
  {
   "cell_type": "code",
   "execution_count": 1,
   "id": "6ac18290",
   "metadata": {},
   "outputs": [],
   "source": [
    "#Libraries\n",
    "import pandas as pd\n",
    "import numpy as np\n",
    "import matplotlib.pyplot"
   ]
  },
  {
   "cell_type": "code",
   "execution_count": 2,
   "id": "3776a06b",
   "metadata": {},
   "outputs": [],
   "source": [
    "#Importing Dataset\n",
    "dataset = pd.read_csv('/home/quartesa/Desktop/Projects/Car_Price_Guesser/dataset.csv')\n",
    "x = dataset.iloc[:,:-1].values\n",
    "y = dataset.iloc[:,-1].values"
   ]
  },
  {
   "cell_type": "code",
   "execution_count": 3,
   "id": "1d327ffb",
   "metadata": {},
   "outputs": [
    {
     "name": "stdout",
     "output_type": "stream",
     "text": [
      "[['Toyota' 'Corolla' 2018 20000 'Petrol' 1600 130]\n",
      " ['Honda' 'Civic' 2017 25000 'Petrol' 1500 120]\n",
      " ['Ford' 'Focus' 2016 30000 'Diesel' 1600 110]\n",
      " ['Toyota' 'Corolla' 2018 22000 'Petrol' 1700 150]\n",
      " ['Honda' 'Civic' 2017 25000 'Hybrid' 2000 160]\n",
      " ['Ford' 'Focus' 2016 30000 'Diesel' 1600 130]\n",
      " ['Toyota' 'Corolla' 2018 22000 'Hybrid' 1800 150]\n",
      " ['Honda' 'Civic' 2017 25000 'Petrol' 2000 160]\n",
      " ['Ford' 'Focus' 2016 30000 'Diesel' 1600 130]\n",
      " ['Toyota' 'Corolla' 2018 20000 'Petrol' 1600 130]\n",
      " ['Honda' 'Civic' 2017 25000 'Petrol' 1500 120]\n",
      " ['Ford' 'Focus' 2016 30000 'Diesel' 1600 110]\n",
      " ['Toyota' 'Corolla' 2018 22000 'Petrol' 1700 150]\n",
      " ['Honda' 'Civic' 2017 25000 'Hybrid' 2000 160]\n",
      " ['Ford' 'Focus' 2016 30000 'Diesel' 1600 130]\n",
      " ['Toyota' 'Corolla' 2018 22000 'Hybrid' 1800 150]\n",
      " ['Honda' 'Civic' 2017 25000 'Petrol' 2000 160]\n",
      " ['Ford' 'Focus' 2016 30000 'Diesel' 1600 130]\n",
      " ['Toyota' 'Corolla' 2018 20000 'Petrol' 1600 130]\n",
      " ['Honda' 'Civic' 2017 25000 'Petrol' 1500 120]\n",
      " ['Ford' 'Focus' 2016 30000 'Diesel' 1600 110]\n",
      " ['Toyota' 'Corolla' 2018 22000 'Petrol' 1700 150]\n",
      " ['Honda' 'Civic' 2017 25000 'Hybrid' 2000 160]\n",
      " ['Ford' 'Focus' 2016 30000 'Diesel' 1600 130]\n",
      " ['Toyota' 'Corolla' 2018 22000 'Hybrid' 1800 150]\n",
      " ['Honda' 'Civic' 2017 25000 'Petrol' 2000 160]\n",
      " ['Ford' 'Focus' 2016 30000 'Diesel' 1600 130]\n",
      " ['Toyota' 'Corolla' 2018 20000 'Petrol' 1600 130]\n",
      " ['Honda' 'Civic' 2017 25000 'Petrol' 1500 120]\n",
      " ['Ford' 'Focus' 2016 30000 'Diesel' 1600 110]\n",
      " ['Toyota' 'Corolla' 2018 22000 'Petrol' 1700 150]\n",
      " ['Honda' 'Civic' 2017 25000 'Hybrid' 2000 160]\n",
      " ['Ford' 'Focus' 2016 30000 'Diesel' 1600 130]\n",
      " ['Toyota' 'Corolla' 2018 22000 'Hybrid' 1800 150]\n",
      " ['Honda' 'Civic' 2017 25000 'Petrol' 2000 160]\n",
      " ['Ford' 'Focus' 2016 30000 'Diesel' 1600 130]\n",
      " ['Toyota' 'Corolla' 2018 20000 'Petrol' 1600 130]\n",
      " ['Honda' 'Civic' 2017 25000 'Petrol' 1500 120]\n",
      " ['Ford' 'Focus' 2016 30000 'Diesel' 1600 110]\n",
      " ['Toyota' 'Corolla' 2018 22000 'Petrol' 1700 150]\n",
      " ['Honda' 'Civic' 2017 25000 'Hybrid' 2000 160]\n",
      " ['Ford' 'Focus' 2016 30000 'Diesel' 1600 130]\n",
      " ['Toyota' 'Corolla' 2018 22000 'Hybrid' 1800 150]\n",
      " ['Honda' 'Civic' 2017 25000 'Petrol' 2000 160]\n",
      " ['Ford' 'Focus' 2016 30000 'Diesel' 1600 130]\n",
      " ['Toyota' 'Corolla' 2018 20000 'Petrol' 1600 130]\n",
      " ['Honda' 'Civic' 2017 25000 'Petrol' 1500 120]\n",
      " ['Ford' 'Focus' 2016 30000 'Diesel' 1600 110]\n",
      " ['Toyota' 'Corolla' 2018 22000 'Petrol' 1700 150]\n",
      " ['Honda' 'Civic' 2017 25000 'Hybrid' 2000 160]\n",
      " ['Ford' 'Focus' 2016 30000 'Diesel' 1600 130]\n",
      " ['Toyota' 'Corolla' 2018 22000 'Hybrid' 1800 150]\n",
      " ['Honda' 'Civic' 2017 25000 'Petrol' 2000 160]\n",
      " ['Ford' 'Focus' 2016 30000 'Diesel' 1600 130]\n",
      " ['Toyota' 'Corolla' 2018 20000 'Petrol' 1600 130]\n",
      " ['Honda' 'Civic' 2017 25000 'Petrol' 1500 120]\n",
      " ['Ford' 'Focus' 2016 30000 'Diesel' 1600 110]\n",
      " ['Toyota' 'Corolla' 2018 22000 'Petrol' 1700 150]\n",
      " ['Honda' 'Civic' 2017 25000 'Hybrid' 2000 160]\n",
      " ['Ford' 'Focus' 2016 30000 'Diesel' 1600 130]\n",
      " ['Toyota' 'Corolla' 2018 22000 'Hybrid' 1800 150]\n",
      " ['Honda' 'Civic' 2017 25000 'Petrol' 2000 160]\n",
      " ['Ford' 'Focus' 2016 30000 'Diesel' 1600 130]\n",
      " ['Toyota' 'Corolla' 2018 20000 'Petrol' 1600 130]\n",
      " ['Honda' 'Civic' 2017 25000 'Petrol' 1500 120]\n",
      " ['Ford' 'Focus' 2016 30000 'Diesel' 1600 110]\n",
      " ['Toyota' 'Corolla' 2018 22000 'Petrol' 1700 150]\n",
      " ['Honda' 'Civic' 2017 25000 'Hybrid' 2000 160]\n",
      " ['Ford' 'Focus' 2016 30000 'Diesel' 1600 130]\n",
      " ['Toyota' 'Corolla' 2018 22000 'Hybrid' 1800 150]\n",
      " ['Honda' 'Civic' 2017 25000 'Petrol' 2000 160]\n",
      " ['Ford' 'Focus' 2016 30000 'Diesel' 1600 130]\n",
      " ['Toyota' 'Corolla' 2018 20000 'Petrol' 1600 130]\n",
      " ['Honda' 'Civic' 2017 25000 'Petrol' 1500 120]\n",
      " ['Ford' 'Focus' 2016 30000 'Diesel' 1600 110]]\n"
     ]
    }
   ],
   "source": [
    "#Controlling X\n",
    "print(x)"
   ]
  },
  {
   "cell_type": "code",
   "execution_count": 4,
   "id": "7c44b22e",
   "metadata": {},
   "outputs": [
    {
     "name": "stdout",
     "output_type": "stream",
     "text": [
      "[25000 23000 21000 28000 32000 22000 27000 30000 22000 25000 23000 21000\n",
      " 28000 32000 22000 27000 30000 22000 25000 23000 21000 28000 32000 22000\n",
      " 27000 30000 22000 25000 23000 21000 28000 32000 22000 27000 30000 22000\n",
      " 25000 23000 21000 28000 32000 22000 27000 30000 22000 25000 23000 21000\n",
      " 28000 32000 22000 27000 30000 22000 25000 23000 21000 28000 32000 22000\n",
      " 27000 30000 22000 25000 23000 21000 28000 32000 22000 27000 30000 22000\n",
      " 25000 23000 21000]\n"
     ]
    }
   ],
   "source": [
    "#Controlling Y\n",
    "print(y)"
   ]
  },
  {
   "cell_type": "code",
   "execution_count": 5,
   "id": "4abce83a",
   "metadata": {},
   "outputs": [],
   "source": [
    "#Encoding Brand \n",
    "from sklearn.preprocessing import OneHotEncoder\n",
    "from sklearn.compose import ColumnTransformer\n",
    "from sklearn.preprocessing import LabelEncoder\n",
    "transformer = ColumnTransformer([('encoder',OneHotEncoder(),[0])],remainder='passthrough')\n",
    "x = np.array(transformer.fit_transform(x))"
   ]
  },
  {
   "cell_type": "code",
   "execution_count": 6,
   "id": "3c85f0da",
   "metadata": {},
   "outputs": [],
   "source": [
    "#Encoding Model\n",
    "model_transformer = ColumnTransformer([('encoder',OneHotEncoder(),[3])],remainder='passthrough')\n",
    "x = np.array(model_transformer.fit_transform(x))"
   ]
  },
  {
   "cell_type": "code",
   "execution_count": 7,
   "id": "5ff26f8c",
   "metadata": {},
   "outputs": [],
   "source": [
    "#Encoding Fuel Type\n",
    "from sklearn.preprocessing import LabelEncoder\n",
    "fuel_encoder = LabelEncoder()\n",
    "x[:,8] = fuel_encoder.fit_transform(x[:,8])"
   ]
  },
  {
   "cell_type": "code",
   "execution_count": 8,
   "id": "2a99ea45",
   "metadata": {},
   "outputs": [],
   "source": [
    "#Spliting Dataset\n",
    "from sklearn.model_selection import train_test_split\n",
    "x_train,x_test,y_train,y_test = train_test_split(x,y,test_size=0.15,random_state=42)"
   ]
  },
  {
   "cell_type": "markdown",
   "id": "c5bd58bb",
   "metadata": {},
   "source": [
    "### After examining the dataset, I have concluded that using Tree-based algorithms would be more suitable."
   ]
  },
  {
   "cell_type": "code",
   "execution_count": 9,
   "id": "a3c6b588",
   "metadata": {},
   "outputs": [
    {
     "data": {
      "text/html": [
       "<style>#sk-container-id-1 {color: black;}#sk-container-id-1 pre{padding: 0;}#sk-container-id-1 div.sk-toggleable {background-color: white;}#sk-container-id-1 label.sk-toggleable__label {cursor: pointer;display: block;width: 100%;margin-bottom: 0;padding: 0.3em;box-sizing: border-box;text-align: center;}#sk-container-id-1 label.sk-toggleable__label-arrow:before {content: \"▸\";float: left;margin-right: 0.25em;color: #696969;}#sk-container-id-1 label.sk-toggleable__label-arrow:hover:before {color: black;}#sk-container-id-1 div.sk-estimator:hover label.sk-toggleable__label-arrow:before {color: black;}#sk-container-id-1 div.sk-toggleable__content {max-height: 0;max-width: 0;overflow: hidden;text-align: left;background-color: #f0f8ff;}#sk-container-id-1 div.sk-toggleable__content pre {margin: 0.2em;color: black;border-radius: 0.25em;background-color: #f0f8ff;}#sk-container-id-1 input.sk-toggleable__control:checked~div.sk-toggleable__content {max-height: 200px;max-width: 100%;overflow: auto;}#sk-container-id-1 input.sk-toggleable__control:checked~label.sk-toggleable__label-arrow:before {content: \"▾\";}#sk-container-id-1 div.sk-estimator input.sk-toggleable__control:checked~label.sk-toggleable__label {background-color: #d4ebff;}#sk-container-id-1 div.sk-label input.sk-toggleable__control:checked~label.sk-toggleable__label {background-color: #d4ebff;}#sk-container-id-1 input.sk-hidden--visually {border: 0;clip: rect(1px 1px 1px 1px);clip: rect(1px, 1px, 1px, 1px);height: 1px;margin: -1px;overflow: hidden;padding: 0;position: absolute;width: 1px;}#sk-container-id-1 div.sk-estimator {font-family: monospace;background-color: #f0f8ff;border: 1px dotted black;border-radius: 0.25em;box-sizing: border-box;margin-bottom: 0.5em;}#sk-container-id-1 div.sk-estimator:hover {background-color: #d4ebff;}#sk-container-id-1 div.sk-parallel-item::after {content: \"\";width: 100%;border-bottom: 1px solid gray;flex-grow: 1;}#sk-container-id-1 div.sk-label:hover label.sk-toggleable__label {background-color: #d4ebff;}#sk-container-id-1 div.sk-serial::before {content: \"\";position: absolute;border-left: 1px solid gray;box-sizing: border-box;top: 0;bottom: 0;left: 50%;z-index: 0;}#sk-container-id-1 div.sk-serial {display: flex;flex-direction: column;align-items: center;background-color: white;padding-right: 0.2em;padding-left: 0.2em;position: relative;}#sk-container-id-1 div.sk-item {position: relative;z-index: 1;}#sk-container-id-1 div.sk-parallel {display: flex;align-items: stretch;justify-content: center;background-color: white;position: relative;}#sk-container-id-1 div.sk-item::before, #sk-container-id-1 div.sk-parallel-item::before {content: \"\";position: absolute;border-left: 1px solid gray;box-sizing: border-box;top: 0;bottom: 0;left: 50%;z-index: -1;}#sk-container-id-1 div.sk-parallel-item {display: flex;flex-direction: column;z-index: 1;position: relative;background-color: white;}#sk-container-id-1 div.sk-parallel-item:first-child::after {align-self: flex-end;width: 50%;}#sk-container-id-1 div.sk-parallel-item:last-child::after {align-self: flex-start;width: 50%;}#sk-container-id-1 div.sk-parallel-item:only-child::after {width: 0;}#sk-container-id-1 div.sk-dashed-wrapped {border: 1px dashed gray;margin: 0 0.4em 0.5em 0.4em;box-sizing: border-box;padding-bottom: 0.4em;background-color: white;}#sk-container-id-1 div.sk-label label {font-family: monospace;font-weight: bold;display: inline-block;line-height: 1.2em;}#sk-container-id-1 div.sk-label-container {text-align: center;}#sk-container-id-1 div.sk-container {/* jupyter's `normalize.less` sets `[hidden] { display: none; }` but bootstrap.min.css set `[hidden] { display: none !important; }` so we also need the `!important` here to be able to override the default hidden behavior on the sphinx rendered scikit-learn.org. See: https://github.com/scikit-learn/scikit-learn/issues/21755 */display: inline-block !important;position: relative;}#sk-container-id-1 div.sk-text-repr-fallback {display: none;}</style><div id=\"sk-container-id-1\" class=\"sk-top-container\"><div class=\"sk-text-repr-fallback\"><pre>DecisionTreeRegressor(random_state=42)</pre><b>In a Jupyter environment, please rerun this cell to show the HTML representation or trust the notebook. <br />On GitHub, the HTML representation is unable to render, please try loading this page with nbviewer.org.</b></div><div class=\"sk-container\" hidden><div class=\"sk-item\"><div class=\"sk-estimator sk-toggleable\"><input class=\"sk-toggleable__control sk-hidden--visually\" id=\"sk-estimator-id-1\" type=\"checkbox\" checked><label for=\"sk-estimator-id-1\" class=\"sk-toggleable__label sk-toggleable__label-arrow\">DecisionTreeRegressor</label><div class=\"sk-toggleable__content\"><pre>DecisionTreeRegressor(random_state=42)</pre></div></div></div></div></div>"
      ],
      "text/plain": [
       "DecisionTreeRegressor(random_state=42)"
      ]
     },
     "execution_count": 9,
     "metadata": {},
     "output_type": "execute_result"
    }
   ],
   "source": [
    "#Decision Tree Regression\n",
    "from sklearn.tree import DecisionTreeRegressor\n",
    "regressor1 = DecisionTreeRegressor(random_state=42)\n",
    "regressor1.fit(x_train,y_train)"
   ]
  },
  {
   "cell_type": "code",
   "execution_count": 10,
   "id": "5d52d029",
   "metadata": {},
   "outputs": [
    {
     "data": {
      "text/html": [
       "<style>#sk-container-id-2 {color: black;}#sk-container-id-2 pre{padding: 0;}#sk-container-id-2 div.sk-toggleable {background-color: white;}#sk-container-id-2 label.sk-toggleable__label {cursor: pointer;display: block;width: 100%;margin-bottom: 0;padding: 0.3em;box-sizing: border-box;text-align: center;}#sk-container-id-2 label.sk-toggleable__label-arrow:before {content: \"▸\";float: left;margin-right: 0.25em;color: #696969;}#sk-container-id-2 label.sk-toggleable__label-arrow:hover:before {color: black;}#sk-container-id-2 div.sk-estimator:hover label.sk-toggleable__label-arrow:before {color: black;}#sk-container-id-2 div.sk-toggleable__content {max-height: 0;max-width: 0;overflow: hidden;text-align: left;background-color: #f0f8ff;}#sk-container-id-2 div.sk-toggleable__content pre {margin: 0.2em;color: black;border-radius: 0.25em;background-color: #f0f8ff;}#sk-container-id-2 input.sk-toggleable__control:checked~div.sk-toggleable__content {max-height: 200px;max-width: 100%;overflow: auto;}#sk-container-id-2 input.sk-toggleable__control:checked~label.sk-toggleable__label-arrow:before {content: \"▾\";}#sk-container-id-2 div.sk-estimator input.sk-toggleable__control:checked~label.sk-toggleable__label {background-color: #d4ebff;}#sk-container-id-2 div.sk-label input.sk-toggleable__control:checked~label.sk-toggleable__label {background-color: #d4ebff;}#sk-container-id-2 input.sk-hidden--visually {border: 0;clip: rect(1px 1px 1px 1px);clip: rect(1px, 1px, 1px, 1px);height: 1px;margin: -1px;overflow: hidden;padding: 0;position: absolute;width: 1px;}#sk-container-id-2 div.sk-estimator {font-family: monospace;background-color: #f0f8ff;border: 1px dotted black;border-radius: 0.25em;box-sizing: border-box;margin-bottom: 0.5em;}#sk-container-id-2 div.sk-estimator:hover {background-color: #d4ebff;}#sk-container-id-2 div.sk-parallel-item::after {content: \"\";width: 100%;border-bottom: 1px solid gray;flex-grow: 1;}#sk-container-id-2 div.sk-label:hover label.sk-toggleable__label {background-color: #d4ebff;}#sk-container-id-2 div.sk-serial::before {content: \"\";position: absolute;border-left: 1px solid gray;box-sizing: border-box;top: 0;bottom: 0;left: 50%;z-index: 0;}#sk-container-id-2 div.sk-serial {display: flex;flex-direction: column;align-items: center;background-color: white;padding-right: 0.2em;padding-left: 0.2em;position: relative;}#sk-container-id-2 div.sk-item {position: relative;z-index: 1;}#sk-container-id-2 div.sk-parallel {display: flex;align-items: stretch;justify-content: center;background-color: white;position: relative;}#sk-container-id-2 div.sk-item::before, #sk-container-id-2 div.sk-parallel-item::before {content: \"\";position: absolute;border-left: 1px solid gray;box-sizing: border-box;top: 0;bottom: 0;left: 50%;z-index: -1;}#sk-container-id-2 div.sk-parallel-item {display: flex;flex-direction: column;z-index: 1;position: relative;background-color: white;}#sk-container-id-2 div.sk-parallel-item:first-child::after {align-self: flex-end;width: 50%;}#sk-container-id-2 div.sk-parallel-item:last-child::after {align-self: flex-start;width: 50%;}#sk-container-id-2 div.sk-parallel-item:only-child::after {width: 0;}#sk-container-id-2 div.sk-dashed-wrapped {border: 1px dashed gray;margin: 0 0.4em 0.5em 0.4em;box-sizing: border-box;padding-bottom: 0.4em;background-color: white;}#sk-container-id-2 div.sk-label label {font-family: monospace;font-weight: bold;display: inline-block;line-height: 1.2em;}#sk-container-id-2 div.sk-label-container {text-align: center;}#sk-container-id-2 div.sk-container {/* jupyter's `normalize.less` sets `[hidden] { display: none; }` but bootstrap.min.css set `[hidden] { display: none !important; }` so we also need the `!important` here to be able to override the default hidden behavior on the sphinx rendered scikit-learn.org. See: https://github.com/scikit-learn/scikit-learn/issues/21755 */display: inline-block !important;position: relative;}#sk-container-id-2 div.sk-text-repr-fallback {display: none;}</style><div id=\"sk-container-id-2\" class=\"sk-top-container\"><div class=\"sk-text-repr-fallback\"><pre>RandomForestRegressor(n_estimators=10, random_state=42)</pre><b>In a Jupyter environment, please rerun this cell to show the HTML representation or trust the notebook. <br />On GitHub, the HTML representation is unable to render, please try loading this page with nbviewer.org.</b></div><div class=\"sk-container\" hidden><div class=\"sk-item\"><div class=\"sk-estimator sk-toggleable\"><input class=\"sk-toggleable__control sk-hidden--visually\" id=\"sk-estimator-id-2\" type=\"checkbox\" checked><label for=\"sk-estimator-id-2\" class=\"sk-toggleable__label sk-toggleable__label-arrow\">RandomForestRegressor</label><div class=\"sk-toggleable__content\"><pre>RandomForestRegressor(n_estimators=10, random_state=42)</pre></div></div></div></div></div>"
      ],
      "text/plain": [
       "RandomForestRegressor(n_estimators=10, random_state=42)"
      ]
     },
     "execution_count": 10,
     "metadata": {},
     "output_type": "execute_result"
    }
   ],
   "source": [
    "#Random Forest Regression\n",
    "from sklearn.ensemble import RandomForestRegressor\n",
    "regressor2 = RandomForestRegressor(n_estimators=10,random_state=42)\n",
    "regressor2.fit(x_train,y_train)"
   ]
  },
  {
   "cell_type": "code",
   "execution_count": 11,
   "id": "7f0967a2",
   "metadata": {},
   "outputs": [],
   "source": [
    "#Predicting a Value For R2 Score\n",
    "y_pred_dec = regressor1.predict(x_test)\n",
    "y_pred_rand = regressor2.predict(x_test)"
   ]
  },
  {
   "cell_type": "code",
   "execution_count": 12,
   "id": "a361a0b1",
   "metadata": {},
   "outputs": [
    {
     "name": "stdout",
     "output_type": "stream",
     "text": [
      "Decision Tree R2 Score: 1.0\n",
      "Random Forest R2 Score: 1.0\n"
     ]
    }
   ],
   "source": [
    "#R2 Scores\n",
    "from sklearn.metrics import r2_score\n",
    "print('Decision Tree R2 Score: {}'.format(r2_score(y_test,y_pred_dec)))\n",
    "print('Random Forest R2 Score: {}'.format(r2_score(y_test,y_pred_rand)))"
   ]
  },
  {
   "cell_type": "markdown",
   "id": "0248b5fe",
   "metadata": {},
   "source": [
    "### The R2 score of both regression models turned out to be 1, indicating that both models fit well enough. You can choose either one as you prefer. Attention, due to an R2 score of 1, there is a high possibility of overfitting."
   ]
  },
  {
   "cell_type": "code",
   "execution_count": 13,
   "id": "32d3568d",
   "metadata": {},
   "outputs": [
    {
     "name": "stdout",
     "output_type": "stream",
     "text": [
      "Price of Decision Tree: [25000.]\n",
      "Price of Random Forest: [24100.]\n"
     ]
    }
   ],
   "source": [
    "#Predicting a Value\n",
    "input_data = [[0.0, 1.0, 0.0, 0.0, 0.0, 1.0, 2018, 200300, 2, 1600, 140]]\n",
    "print('Price of Decision Tree: {}'.format(regressor1.predict(input_data)))\n",
    "print('Price of Random Forest: {}'.format(regressor2.predict(input_data)))"
   ]
  },
  {
   "cell_type": "markdown",
   "id": "8c6c4c60",
   "metadata": {},
   "source": [
    "### Given the entered input, as the distance the vehicle has traveled is expected to increase, it is highly likely that the price would decrease. Due to this reason, the Random Forest algorithm has provided more realistic prices. Since Random Forest is an ensemble model, it has a lower likelihood of overfitting compared to a decision tree. Due to this reason, choosing Random Forest would be a more appropriate option."
   ]
  }
 ],
 "metadata": {
  "kernelspec": {
   "display_name": "Python 3 (ipykernel)",
   "language": "python",
   "name": "python3"
  },
  "language_info": {
   "codemirror_mode": {
    "name": "ipython",
    "version": 3
   },
   "file_extension": ".py",
   "mimetype": "text/x-python",
   "name": "python",
   "nbconvert_exporter": "python",
   "pygments_lexer": "ipython3",
   "version": "3.11.4"
  }
 },
 "nbformat": 4,
 "nbformat_minor": 5
}
